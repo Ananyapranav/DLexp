{
 "cells": [
  {
   "cell_type": "code",
   "execution_count": 1,
   "id": "3d09ea3e",
   "metadata": {},
   "outputs": [
    {
     "name": "stdout",
     "output_type": "stream",
     "text": [
      "Defaulting to user installation because normal site-packages is not writeable\n",
      "Requirement already satisfied: tensorflow in /home/student/.local/lib/python3.10/site-packages (2.11.0)\n",
      "Requirement already satisfied: keras in /home/student/.local/lib/python3.10/site-packages (2.11.0)\n",
      "Requirement already satisfied: scikit-learn in /home/student/.local/lib/python3.10/site-packages (1.2.1)\n",
      "Collecting tqdm\n",
      "  Downloading tqdm-4.66.1-py3-none-any.whl (78 kB)\n",
      "\u001b[2K     \u001b[38;2;114;156;31m━━━━━━━━━━━━━━━━━━━━━━━━━━━━━━━━━━━━━━━\u001b[0m \u001b[32m78.3/78.3 kB\u001b[0m \u001b[31m873.6 kB/s\u001b[0m eta \u001b[36m0:00:00\u001b[0mMB/s\u001b[0m eta \u001b[36m0:00:01\u001b[0m\n",
      "\u001b[?25hCollecting mediapy\n",
      "  Downloading mediapy-1.1.9-py3-none-any.whl (25 kB)\n",
      "Requirement already satisfied: tensorboard<2.12,>=2.11 in /home/student/.local/lib/python3.10/site-packages (from tensorflow) (2.11.2)\n",
      "Requirement already satisfied: protobuf<3.20,>=3.9.2 in /usr/lib/python3/dist-packages (from tensorflow) (3.12.4)\n",
      "Requirement already satisfied: termcolor>=1.1.0 in /home/student/.local/lib/python3.10/site-packages (from tensorflow) (2.2.0)\n",
      "Requirement already satisfied: six>=1.12.0 in /usr/lib/python3/dist-packages (from tensorflow) (1.16.0)\n",
      "Requirement already satisfied: astunparse>=1.6.0 in /home/student/.local/lib/python3.10/site-packages (from tensorflow) (1.6.3)\n",
      "Requirement already satisfied: absl-py>=1.0.0 in /home/student/.local/lib/python3.10/site-packages (from tensorflow) (1.4.0)\n",
      "Requirement already satisfied: h5py>=2.9.0 in /home/student/.local/lib/python3.10/site-packages (from tensorflow) (3.8.0)\n",
      "Requirement already satisfied: flatbuffers>=2.0 in /home/student/.local/lib/python3.10/site-packages (from tensorflow) (23.1.21)\n",
      "Requirement already satisfied: tensorflow-io-gcs-filesystem>=0.23.1 in /home/student/.local/lib/python3.10/site-packages (from tensorflow) (0.30.0)\n",
      "Requirement already satisfied: gast<=0.4.0,>=0.2.1 in /home/student/.local/lib/python3.10/site-packages (from tensorflow) (0.4.0)\n",
      "Requirement already satisfied: typing-extensions>=3.6.6 in /home/student/.local/lib/python3.10/site-packages (from tensorflow) (4.5.0)\n",
      "Requirement already satisfied: wrapt>=1.11.0 in /home/student/.local/lib/python3.10/site-packages (from tensorflow) (1.14.1)\n",
      "Requirement already satisfied: grpcio<2.0,>=1.24.3 in /home/student/.local/lib/python3.10/site-packages (from tensorflow) (1.51.1)\n",
      "Requirement already satisfied: numpy>=1.20 in /home/student/.local/lib/python3.10/site-packages (from tensorflow) (1.24.2)\n",
      "Requirement already satisfied: packaging in /usr/local/lib/python3.10/dist-packages (from tensorflow) (21.3)\n",
      "Requirement already satisfied: setuptools in /usr/lib/python3/dist-packages (from tensorflow) (59.6.0)\n",
      "Requirement already satisfied: libclang>=13.0.0 in /home/student/.local/lib/python3.10/site-packages (from tensorflow) (15.0.6.1)\n",
      "Requirement already satisfied: google-pasta>=0.1.1 in /home/student/.local/lib/python3.10/site-packages (from tensorflow) (0.2.0)\n",
      "Requirement already satisfied: opt-einsum>=2.3.2 in /home/student/.local/lib/python3.10/site-packages (from tensorflow) (3.3.0)\n",
      "Requirement already satisfied: tensorflow-estimator<2.12,>=2.11.0 in /home/student/.local/lib/python3.10/site-packages (from tensorflow) (2.11.0)\n",
      "Requirement already satisfied: threadpoolctl>=2.0.0 in /home/student/.local/lib/python3.10/site-packages (from scikit-learn) (3.1.0)\n",
      "Requirement already satisfied: joblib>=1.1.1 in /home/student/.local/lib/python3.10/site-packages (from scikit-learn) (1.2.0)\n",
      "Requirement already satisfied: scipy>=1.3.2 in /home/student/.local/lib/python3.10/site-packages (from scikit-learn) (1.10.0)\n",
      "Requirement already satisfied: ipython in /usr/local/lib/python3.10/dist-packages (from mediapy) (8.4.0)\n",
      "Requirement already satisfied: matplotlib in /home/student/.local/lib/python3.10/site-packages (from mediapy) (3.8.0)\n",
      "Requirement already satisfied: Pillow in /usr/lib/python3/dist-packages (from mediapy) (9.0.1)\n",
      "Requirement already satisfied: wheel<1.0,>=0.23.0 in /usr/lib/python3/dist-packages (from astunparse>=1.6.0->tensorflow) (0.37.1)\n",
      "Requirement already satisfied: google-auth-oauthlib<0.5,>=0.4.1 in /home/student/.local/lib/python3.10/site-packages (from tensorboard<2.12,>=2.11->tensorflow) (0.4.6)\n",
      "Requirement already satisfied: werkzeug>=1.0.1 in /home/student/.local/lib/python3.10/site-packages (from tensorboard<2.12,>=2.11->tensorflow) (2.2.3)\n",
      "Requirement already satisfied: google-auth<3,>=1.6.3 in /home/student/.local/lib/python3.10/site-packages (from tensorboard<2.12,>=2.11->tensorflow) (2.16.0)\n",
      "Requirement already satisfied: requests<3,>=2.21.0 in /usr/lib/python3/dist-packages (from tensorboard<2.12,>=2.11->tensorflow) (2.25.1)\n",
      "Requirement already satisfied: tensorboard-plugin-wit>=1.6.0 in /home/student/.local/lib/python3.10/site-packages (from tensorboard<2.12,>=2.11->tensorflow) (1.8.1)\n",
      "Requirement already satisfied: markdown>=2.6.8 in /home/student/.local/lib/python3.10/site-packages (from tensorboard<2.12,>=2.11->tensorflow) (3.4.1)\n",
      "Requirement already satisfied: tensorboard-data-server<0.7.0,>=0.6.0 in /home/student/.local/lib/python3.10/site-packages (from tensorboard<2.12,>=2.11->tensorflow) (0.6.1)\n",
      "Requirement already satisfied: decorator in /usr/local/lib/python3.10/dist-packages (from ipython->mediapy) (5.1.1)\n",
      "Requirement already satisfied: stack-data in /usr/local/lib/python3.10/dist-packages (from ipython->mediapy) (0.4.0)\n",
      "Requirement already satisfied: traitlets>=5 in /usr/local/lib/python3.10/dist-packages (from ipython->mediapy) (5.3.0)\n",
      "Requirement already satisfied: matplotlib-inline in /usr/local/lib/python3.10/dist-packages (from ipython->mediapy) (0.1.6)\n",
      "Requirement already satisfied: pexpect>4.3 in /usr/lib/python3/dist-packages (from ipython->mediapy) (4.8.0)\n",
      "Requirement already satisfied: backcall in /usr/local/lib/python3.10/dist-packages (from ipython->mediapy) (0.2.0)\n",
      "Requirement already satisfied: pygments>=2.4.0 in /usr/local/lib/python3.10/dist-packages (from ipython->mediapy) (2.13.0)\n",
      "Requirement already satisfied: jedi>=0.16 in /usr/local/lib/python3.10/dist-packages (from ipython->mediapy) (0.18.1)\n",
      "Requirement already satisfied: prompt-toolkit!=3.0.0,!=3.0.1,<3.1.0,>=2.0.0 in /usr/local/lib/python3.10/dist-packages (from ipython->mediapy) (3.0.30)\n",
      "Requirement already satisfied: pickleshare in /usr/local/lib/python3.10/dist-packages (from ipython->mediapy) (0.7.5)\n",
      "Requirement already satisfied: fonttools>=4.22.0 in /home/student/.local/lib/python3.10/site-packages (from matplotlib->mediapy) (4.43.1)\n",
      "Requirement already satisfied: python-dateutil>=2.7 in /usr/local/lib/python3.10/dist-packages (from matplotlib->mediapy) (2.8.2)\n",
      "Requirement already satisfied: cycler>=0.10 in /home/student/.local/lib/python3.10/site-packages (from matplotlib->mediapy) (0.12.1)\n",
      "Requirement already satisfied: contourpy>=1.0.1 in /home/student/.local/lib/python3.10/site-packages (from matplotlib->mediapy) (1.1.1)\n",
      "Requirement already satisfied: pyparsing>=2.3.1 in /usr/lib/python3/dist-packages (from matplotlib->mediapy) (2.4.7)\n",
      "Requirement already satisfied: kiwisolver>=1.0.1 in /home/student/.local/lib/python3.10/site-packages (from matplotlib->mediapy) (1.4.5)\n",
      "Requirement already satisfied: rsa<5,>=3.1.4 in /home/student/.local/lib/python3.10/site-packages (from google-auth<3,>=1.6.3->tensorboard<2.12,>=2.11->tensorflow) (4.9)\n",
      "Requirement already satisfied: cachetools<6.0,>=2.0.0 in /home/student/.local/lib/python3.10/site-packages (from google-auth<3,>=1.6.3->tensorboard<2.12,>=2.11->tensorflow) (5.3.0)\n",
      "Requirement already satisfied: pyasn1-modules>=0.2.1 in /home/student/.local/lib/python3.10/site-packages (from google-auth<3,>=1.6.3->tensorboard<2.12,>=2.11->tensorflow) (0.2.8)\n",
      "Requirement already satisfied: requests-oauthlib>=0.7.0 in /home/student/.local/lib/python3.10/site-packages (from google-auth-oauthlib<0.5,>=0.4.1->tensorboard<2.12,>=2.11->tensorflow) (1.3.1)\n",
      "Requirement already satisfied: parso<0.9.0,>=0.8.0 in /usr/local/lib/python3.10/dist-packages (from jedi>=0.16->ipython->mediapy) (0.8.3)\n",
      "Requirement already satisfied: wcwidth in /usr/local/lib/python3.10/dist-packages (from prompt-toolkit!=3.0.0,!=3.0.1,<3.1.0,>=2.0.0->ipython->mediapy) (0.2.5)\n",
      "Requirement already satisfied: MarkupSafe>=2.1.1 in /home/student/.local/lib/python3.10/site-packages (from werkzeug>=1.0.1->tensorboard<2.12,>=2.11->tensorflow) (2.1.2)\n"
     ]
    },
    {
     "name": "stdout",
     "output_type": "stream",
     "text": [
      "Requirement already satisfied: pure-eval in /usr/local/lib/python3.10/dist-packages (from stack-data->ipython->mediapy) (0.2.2)\n",
      "Requirement already satisfied: asttokens in /usr/local/lib/python3.10/dist-packages (from stack-data->ipython->mediapy) (2.0.8)\n",
      "Requirement already satisfied: executing in /usr/local/lib/python3.10/dist-packages (from stack-data->ipython->mediapy) (0.10.0)\n",
      "Requirement already satisfied: pyasn1<0.5.0,>=0.4.6 in /home/student/.local/lib/python3.10/site-packages (from pyasn1-modules>=0.2.1->google-auth<3,>=1.6.3->tensorboard<2.12,>=2.11->tensorflow) (0.4.8)\n",
      "Requirement already satisfied: oauthlib>=3.0.0 in /usr/lib/python3/dist-packages (from requests-oauthlib>=0.7.0->google-auth-oauthlib<0.5,>=0.4.1->tensorboard<2.12,>=2.11->tensorflow) (3.2.0)\n",
      "Installing collected packages: tqdm, mediapy\n",
      "Successfully installed mediapy-1.1.9 tqdm-4.66.1\n",
      "\n",
      "\u001b[1m[\u001b[0m\u001b[34;49mnotice\u001b[0m\u001b[1;39;49m]\u001b[0m\u001b[39;49m A new release of pip available: \u001b[0m\u001b[31;49m22.2.2\u001b[0m\u001b[39;49m -> \u001b[0m\u001b[32;49m23.3.1\u001b[0m\n",
      "\u001b[1m[\u001b[0m\u001b[34;49mnotice\u001b[0m\u001b[1;39;49m]\u001b[0m\u001b[39;49m To update, run: \u001b[0m\u001b[32;49mpython3 -m pip install --upgrade pip\u001b[0m\n"
     ]
    }
   ],
   "source": [
    "!pip install tensorflow keras scikit-learn tqdm mediapy"
   ]
  },
  {
   "cell_type": "code",
   "execution_count": 3,
   "id": "5258ecc3",
   "metadata": {},
   "outputs": [
    {
     "ename": "ImportError",
     "evalue": "cannot import name 'img_to_array' from 'keras.preprocessing.image' (/home/student/.local/lib/python3.10/site-packages/keras/preprocessing/image.py)",
     "output_type": "error",
     "traceback": [
      "\u001b[0;31m---------------------------------------------------------------------------\u001b[0m",
      "\u001b[0;31mImportError\u001b[0m                               Traceback (most recent call last)",
      "Input \u001b[0;32mIn [3]\u001b[0m, in \u001b[0;36m<cell line: 3>\u001b[0;34m()\u001b[0m\n\u001b[1;32m      1\u001b[0m \u001b[38;5;66;03m#Loading dataset\u001b[39;00m\n\u001b[1;32m      2\u001b[0m \u001b[38;5;28;01mfrom\u001b[39;00m \u001b[38;5;21;01msklearn\u001b[39;00m\u001b[38;5;21;01m.\u001b[39;00m\u001b[38;5;21;01mmodel_selection\u001b[39;00m \u001b[38;5;28;01mimport\u001b[39;00m train_test_split\n\u001b[0;32m----> 3\u001b[0m \u001b[38;5;28;01mfrom\u001b[39;00m \u001b[38;5;21;01mkeras\u001b[39;00m\u001b[38;5;21;01m.\u001b[39;00m\u001b[38;5;21;01mpreprocessing\u001b[39;00m\u001b[38;5;21;01m.\u001b[39;00m\u001b[38;5;21;01mimage\u001b[39;00m \u001b[38;5;28;01mimport\u001b[39;00m img_to_array, array_to_img\n\u001b[1;32m      4\u001b[0m \u001b[38;5;28;01mfrom\u001b[39;00m \u001b[38;5;21;01mtensorflow\u001b[39;00m\u001b[38;5;21;01m.\u001b[39;00m\u001b[38;5;21;01mkeras\u001b[39;00m\u001b[38;5;21;01m.\u001b[39;00m\u001b[38;5;21;01mutils\u001b[39;00m \u001b[38;5;28;01mimport\u001b[39;00m load_img\n\u001b[1;32m      6\u001b[0m \u001b[38;5;28;01mimport\u001b[39;00m \u001b[38;5;21;01mos\u001b[39;00m\n",
      "\u001b[0;31mImportError\u001b[0m: cannot import name 'img_to_array' from 'keras.preprocessing.image' (/home/student/.local/lib/python3.10/site-packages/keras/preprocessing/image.py)"
     ]
    }
   ],
   "source": [
    "#Loading dataset\n",
    "from sklearn.model_selection import train_test_split\n",
    "from keras.preprocessing.image import img_to_array, array_to_img\n",
    "from tensorflow.keras.utils import load_img\n",
    "\n",
    "import os\n",
    "import pandas\n",
    "import numpy as np\n",
    "\n",
    "train_path = '/home/student/BI66/Pneumonia X Ray-20231023T104042Z-002/Pneumonia X Ray'\n",
    "\n",
    "images = []\n",
    "labels = []\n",
    "\n",
    "folder_names = ['NORMAL', 'PNEUMONIA']\n",
    "\n",
    "label_value = 0\n",
    "\n",
    "for folder_name in folder_names:\n",
    "    for image in os.listdir(train_path+'/'+folder_name):\n",
    "        img = load_img(train_path+f'/{folder_name}/'+image)\n",
    "        img = img.resize((100, 100))\n",
    "        img = img_to_array(img)\n",
    "        images.append(img)\n",
    "\n",
    "        labels.append(label_value)\n",
    "        \n",
    "    label_value = label_value + 1\n",
    "    \n",
    "images = np.array(images)\n",
    "labels = np.array(labels)"
   ]
  },
  {
   "cell_type": "code",
   "execution_count": 6,
   "id": "d03b30ac",
   "metadata": {},
   "outputs": [],
   "source": [
    "#Loading dataset\n",
    "from sklearn.model_selection import train_test_split\n",
    "from tensorflow.keras.utils import load_img, img_to_array\n",
    "from tensorflow.keras.preprocessing.image import array_to_img\n",
    "\n",
    "import os\n",
    "import pandas\n",
    "import numpy as np\n",
    "\n",
    "train_path = '/home/student/Downloads/Pneumonia X Ray-20231023T104042Z-002/Pneumonia X Ray/train'\n",
    "\n",
    "images = []\n",
    "labels = []\n",
    "\n",
    "folder_names = ['NORMAL', 'PNEUMONIA']\n",
    "\n",
    "label_value = 0\n",
    "\n",
    "for folder_name in folder_names:\n",
    "    for image in os.listdir(train_path+'/'+folder_name):\n",
    "        img = load_img(train_path+f'/{folder_name}/'+image)\n",
    "        img = img.resize((100, 100))\n",
    "        img = img_to_array(img)\n",
    "        images.append(img)\n",
    "\n",
    "        labels.append(label_value)\n",
    "        \n",
    "    label_value = label_value + 1\n",
    "    \n",
    "images = np.array(images)\n",
    "labels = np.array(labels)\n"
   ]
  },
  {
   "cell_type": "code",
   "execution_count": 7,
   "id": "b92f6b22",
   "metadata": {},
   "outputs": [
    {
     "name": "stdout",
     "output_type": "stream",
     "text": [
      "Class 1\n"
     ]
    },
    {
     "data": {
      "text/html": [
       "<table class=\"show_images\" style=\"border-spacing:0px;\"><tr><td style=\"padding:1px;\"><img width=\"100\" height=\"100\" style=\"image-rendering:auto; object-fit:cover;\" src=\"data:image/png;base64,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\"/></td></tr></table>"
      ],
      "text/plain": [
       "<IPython.core.display.HTML object>"
      ]
     },
     "metadata": {},
     "output_type": "display_data"
    }
   ],
   "source": [
    "import random, mediapy, PIL\n",
    "\n",
    "#Show preprocessed dataset\n",
    "r = random.randint(0,len(images))\n",
    "\n",
    "print('Class ' + str(labels[r]))\n",
    "mediapy.show_image(array_to_img(images[r]))"
   ]
  },
  {
   "cell_type": "code",
   "execution_count": 8,
   "id": "c297d42e",
   "metadata": {},
   "outputs": [],
   "source": [
    "#Train test split for testing\n",
    "xtrain, xtest, ytrain, ytest = train_test_split(images, labels, test_size=0.2)\n",
    "\n",
    "#Train test split for validation\n",
    "X_Train, xvalidation, Y_Train, yvalidation = train_test_split(images, labels, test_size=0.2)"
   ]
  },
  {
   "cell_type": "code",
   "execution_count": 9,
   "id": "c3b14245",
   "metadata": {},
   "outputs": [],
   "source": [
    "#Color range extends to 255\n",
    "\n",
    "xtrain =xtrain/255\n",
    "xtest = xtest/255"
   ]
  },
  {
   "cell_type": "code",
   "execution_count": 10,
   "id": "651cf919",
   "metadata": {},
   "outputs": [
    {
     "data": {
      "text/plain": [
       "(100, 100, 3)"
      ]
     },
     "execution_count": 10,
     "metadata": {},
     "output_type": "execute_result"
    }
   ],
   "source": [
    "xtrain[0].shape"
   ]
  },
  {
   "cell_type": "code",
   "execution_count": 16,
   "id": "15d5904a",
   "metadata": {},
   "outputs": [],
   "source": [
    "import keras\n",
    "import tensorflow as tf\n",
    "\n",
    "cnn = keras.models.Sequential([\n",
    "\n",
    "    tf.keras.layers.Conv2D(filters=32, kernel_size=3,strides=(1,1),padding='valid', activation='relu', input_shape=(100,100,3)),\n",
    "    tf.keras.layers.MaxPooling2D((2, 2)),\n",
    "    tf.keras.layers.Conv2D(filters=64, kernel_size=3,strides=(2,2),padding='same', activation='relu'),\n",
    "    tf.keras.layers.MaxPooling2D((2, 2)),\n",
    "    tf.keras.layers.Flatten(),\n",
    "    tf.keras.layers.Dense(128, activation='relu'),\n",
    "    tf.keras.layers.Dropout(0.25),\n",
    "    tf.keras.layers.Dense(256, activation='relu'),\n",
    "    tf.keras.layers.Dropout(0.25),\n",
    "    tf.keras.layers.Dense(128, activation='relu'),\n",
    "    tf.keras.layers.Dense(2, activation='softmax')\n",
    "\n",
    "])"
   ]
  },
  {
   "cell_type": "code",
   "execution_count": 17,
   "id": "165126d4",
   "metadata": {},
   "outputs": [],
   "source": [
    "cnn.compile(optimizer='adam',loss='sparse_categorical_crossentropy',metrics=['accuracy'])"
   ]
  },
  {
   "cell_type": "code",
   "execution_count": 18,
   "id": "7c733b18",
   "metadata": {},
   "outputs": [
    {
     "name": "stdout",
     "output_type": "stream",
     "text": [
      "Epoch 1/10\n",
      "84/84 [==============================] - 6s 59ms/step - loss: 0.4278 - accuracy: 0.8464 - val_loss: 28.7739 - val_accuracy: 0.8922\n",
      "Epoch 2/10\n",
      "84/84 [==============================] - 5s 59ms/step - loss: 0.2184 - accuracy: 0.9161 - val_loss: 12.5247 - val_accuracy: 0.9341\n",
      "Epoch 3/10\n",
      "84/84 [==============================] - 5s 58ms/step - loss: 0.1467 - accuracy: 0.9408 - val_loss: 10.0343 - val_accuracy: 0.9701\n",
      "Epoch 4/10\n",
      "84/84 [==============================] - 5s 59ms/step - loss: 0.1091 - accuracy: 0.9625 - val_loss: 4.8777 - val_accuracy: 0.9850\n",
      "Epoch 5/10\n",
      "84/84 [==============================] - 5s 58ms/step - loss: 0.1033 - accuracy: 0.9648 - val_loss: 7.7445 - val_accuracy: 0.9611\n",
      "Epoch 6/10\n",
      "84/84 [==============================] - 5s 59ms/step - loss: 0.0896 - accuracy: 0.9708 - val_loss: 8.7697 - val_accuracy: 0.9731\n",
      "Epoch 7/10\n",
      "84/84 [==============================] - 5s 57ms/step - loss: 0.0721 - accuracy: 0.9693 - val_loss: 6.1497 - val_accuracy: 0.9790\n",
      "Epoch 8/10\n",
      "84/84 [==============================] - 5s 61ms/step - loss: 0.0373 - accuracy: 0.9880 - val_loss: 13.7722 - val_accuracy: 0.9731\n",
      "Epoch 9/10\n",
      "84/84 [==============================] - 5s 58ms/step - loss: 0.0475 - accuracy: 0.9835 - val_loss: 6.1616 - val_accuracy: 0.9790\n",
      "Epoch 10/10\n",
      "84/84 [==============================] - 5s 57ms/step - loss: 0.0322 - accuracy: 0.9873 - val_loss: 7.5876 - val_accuracy: 0.9850\n"
     ]
    },
    {
     "data": {
      "text/plain": [
       "<keras.callbacks.History at 0x7f3bc0022110>"
      ]
     },
     "execution_count": 18,
     "metadata": {},
     "output_type": "execute_result"
    }
   ],
   "source": [
    "cnn.fit(xtrain, ytrain, epochs=10 , batch_size=16 , verbose=1 , validation_data=(xvalidation, yvalidation))"
   ]
  },
  {
   "cell_type": "code",
   "execution_count": 19,
   "id": "e8829ec4",
   "metadata": {},
   "outputs": [
    {
     "name": "stdout",
     "output_type": "stream",
     "text": [
      "11/11 [==============================] - 0s 16ms/step - loss: 0.1609 - accuracy: 0.9611\n"
     ]
    },
    {
     "data": {
      "text/plain": [
       "[0.16094228625297546, 0.961077868938446]"
      ]
     },
     "execution_count": 19,
     "metadata": {},
     "output_type": "execute_result"
    }
   ],
   "source": [
    "cnn.evaluate(xtest, ytest)"
   ]
  },
  {
   "cell_type": "code",
   "execution_count": 15,
   "id": "ae3678b3",
   "metadata": {},
   "outputs": [
    {
     "name": "stdout",
     "output_type": "stream",
     "text": [
      "118\n"
     ]
    },
    {
     "data": {
      "text/html": [
       "<table class=\"show_images\" style=\"border-spacing:0px;\"><tr><td style=\"padding:1px;\"><img width=\"100\" height=\"100\" style=\"image-rendering:auto; object-fit:cover;\" src=\"data:image/png;base64,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\"/></td></tr></table>"
      ],
      "text/plain": [
       "<IPython.core.display.HTML object>"
      ]
     },
     "metadata": {},
     "output_type": "display_data"
    },
    {
     "name": "stdout",
     "output_type": "stream",
     "text": [
      "11/11 [==============================] - 0s 16ms/step\n",
      "The predicted value is 1\n",
      "PNEUMONIA\n"
     ]
    }
   ],
   "source": [
    "#Predict\n",
    "\n",
    "import random\n",
    "\n",
    "r = random.randint(0, len(xtest))\n",
    "print(r)\n",
    "mediapy.show_image(xtest[r])\n",
    "\n",
    "prediction = cnn.predict(xtest)\n",
    "output = np.argmax(prediction[r])\n",
    "print(f\"The predicted value is {output}\")\n",
    "print(folder_names[output])"
   ]
  },
  {
   "cell_type": "code",
   "execution_count": null,
   "id": "7754173b",
   "metadata": {},
   "outputs": [],
   "source": []
  },
  {
   "cell_type": "code",
   "execution_count": null,
   "id": "4be48c56",
   "metadata": {},
   "outputs": [],
   "source": []
  },
  {
   "cell_type": "code",
   "execution_count": null,
   "id": "801621af",
   "metadata": {},
   "outputs": [],
   "source": []
  },
  {
   "cell_type": "code",
   "execution_count": null,
   "id": "8fdb5fa7",
   "metadata": {},
   "outputs": [],
   "source": []
  },
  {
   "cell_type": "code",
   "execution_count": null,
   "id": "fd64ccea",
   "metadata": {},
   "outputs": [],
   "source": []
  }
 ],
 "metadata": {
  "kernelspec": {
   "display_name": "Python 3 (ipykernel)",
   "language": "python",
   "name": "python3"
  },
  "language_info": {
   "codemirror_mode": {
    "name": "ipython",
    "version": 3
   },
   "file_extension": ".py",
   "mimetype": "text/x-python",
   "name": "python",
   "nbconvert_exporter": "python",
   "pygments_lexer": "ipython3",
   "version": "3.10.4"
  }
 },
 "nbformat": 4,
 "nbformat_minor": 5
}
