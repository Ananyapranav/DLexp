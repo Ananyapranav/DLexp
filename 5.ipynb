{
 "cells": [
  {
   "cell_type": "code",
   "execution_count": 1,
   "id": "b051f48b",
   "metadata": {
    "id": "b051f48b"
   },
   "outputs": [],
   "source": [
    "import pandas as pd\n",
    "import numpy as np\n",
    "import collections\n",
    "import re"
   ]
  },
  {
   "cell_type": "code",
   "execution_count": 2,
   "id": "9d4c5b52",
   "metadata": {
    "id": "9d4c5b52"
   },
   "outputs": [],
   "source": [
    "f=open(\"text.txt\")\n",
    "doc1=f.read()\n",
    "f.close()\n",
    "\n"
   ]
  },
  {
   "cell_type": "code",
   "execution_count": 3,
   "id": "ca05e471",
   "metadata": {
    "id": "ca05e471",
    "outputId": "af835175-5ee0-4e0b-b93f-ece8f6e5577e"
   },
   "outputs": [
    {
     "data": {
      "text/plain": [
       "'Hello friend I am intrigued with the working of Deep Learning.'"
      ]
     },
     "execution_count": 3,
     "metadata": {},
     "output_type": "execute_result"
    }
   ],
   "source": [
    "\n",
    "doc1"
   ]
  },
  {
   "cell_type": "code",
   "execution_count": 4,
   "id": "83690756",
   "metadata": {
    "id": "83690756"
   },
   "outputs": [],
   "source": [
    "l_doc1 = re.sub(r\"[^a-zA-Z0-9]\", \" \", doc1.lower()).split()\n"
   ]
  },
  {
   "cell_type": "code",
   "execution_count": 5,
   "id": "34315914",
   "metadata": {
    "id": "34315914",
    "outputId": "e208e85c-45db-4e91-b4f7-5de8d8ecfab2"
   },
   "outputs": [
    {
     "data": {
      "text/plain": [
       "['hello',\n",
       " 'friend',\n",
       " 'i',\n",
       " 'am',\n",
       " 'intrigued',\n",
       " 'with',\n",
       " 'the',\n",
       " 'working',\n",
       " 'of',\n",
       " 'deep',\n",
       " 'learning']"
      ]
     },
     "execution_count": 5,
     "metadata": {},
     "output_type": "execute_result"
    }
   ],
   "source": [
    "l_doc1"
   ]
  },
  {
   "cell_type": "code",
   "execution_count": 6,
   "id": "3670b227",
   "metadata": {
    "id": "3670b227"
   },
   "outputs": [],
   "source": [
    "l=l_doc1"
   ]
  },
  {
   "cell_type": "code",
   "execution_count": 7,
   "id": "d07d96b7",
   "metadata": {
    "id": "d07d96b7",
    "outputId": "c6f4ca0c-e05e-45bd-f376-e9715405e4a3"
   },
   "outputs": [
    {
     "data": {
      "text/plain": [
       "['hello',\n",
       " 'friend',\n",
       " 'i',\n",
       " 'am',\n",
       " 'intrigued',\n",
       " 'with',\n",
       " 'the',\n",
       " 'working',\n",
       " 'of',\n",
       " 'deep',\n",
       " 'learning']"
      ]
     },
     "execution_count": 7,
     "metadata": {},
     "output_type": "execute_result"
    }
   ],
   "source": [
    "l"
   ]
  },
  {
   "cell_type": "code",
   "execution_count": 8,
   "id": "b7da8186",
   "metadata": {
    "id": "b7da8186"
   },
   "outputs": [],
   "source": [
    "wordset=set(l)"
   ]
  },
  {
   "cell_type": "code",
   "execution_count": 9,
   "id": "3fe06ad1",
   "metadata": {
    "id": "3fe06ad1",
    "outputId": "142c9618-0c14-4042-c5f1-c3f9941c0b5f"
   },
   "outputs": [
    {
     "data": {
      "text/plain": [
       "{'am',\n",
       " 'deep',\n",
       " 'friend',\n",
       " 'hello',\n",
       " 'i',\n",
       " 'intrigued',\n",
       " 'learning',\n",
       " 'of',\n",
       " 'the',\n",
       " 'with',\n",
       " 'working'}"
      ]
     },
     "execution_count": 9,
     "metadata": {},
     "output_type": "execute_result"
    }
   ],
   "source": [
    "wordset"
   ]
  },
  {
   "cell_type": "code",
   "execution_count": 10,
   "id": "270262a1",
   "metadata": {
    "id": "270262a1"
   },
   "outputs": [],
   "source": [
    "def calculateBOW(wordset,l_doc):\n",
    "  tf_diz = dict.fromkeys(wordset,0)\n",
    "  for word in l_doc:\n",
    "      tf_diz[word]=l_doc.count(word)\n",
    "  return tf_diz"
   ]
  },
  {
   "cell_type": "code",
   "execution_count": 11,
   "id": "5b9de5b8",
   "metadata": {
    "id": "5b9de5b8",
    "outputId": "26d7d3ec-7994-4ef3-d861-90237a95fc05"
   },
   "outputs": [
    {
     "data": {
      "text/html": [
       "<div>\n",
       "<style scoped>\n",
       "    .dataframe tbody tr th:only-of-type {\n",
       "        vertical-align: middle;\n",
       "    }\n",
       "\n",
       "    .dataframe tbody tr th {\n",
       "        vertical-align: top;\n",
       "    }\n",
       "\n",
       "    .dataframe thead th {\n",
       "        text-align: right;\n",
       "    }\n",
       "</style>\n",
       "<table border=\"1\" class=\"dataframe\">\n",
       "  <thead>\n",
       "    <tr style=\"text-align: right;\">\n",
       "      <th></th>\n",
       "      <th>intrigued</th>\n",
       "      <th>friend</th>\n",
       "      <th>learning</th>\n",
       "      <th>the</th>\n",
       "      <th>working</th>\n",
       "      <th>am</th>\n",
       "      <th>deep</th>\n",
       "      <th>of</th>\n",
       "      <th>hello</th>\n",
       "      <th>with</th>\n",
       "      <th>i</th>\n",
       "    </tr>\n",
       "  </thead>\n",
       "  <tbody>\n",
       "    <tr>\n",
       "      <th>0</th>\n",
       "      <td>1</td>\n",
       "      <td>1</td>\n",
       "      <td>1</td>\n",
       "      <td>1</td>\n",
       "      <td>1</td>\n",
       "      <td>1</td>\n",
       "      <td>1</td>\n",
       "      <td>1</td>\n",
       "      <td>1</td>\n",
       "      <td>1</td>\n",
       "      <td>1</td>\n",
       "    </tr>\n",
       "  </tbody>\n",
       "</table>\n",
       "</div>"
      ],
      "text/plain": [
       "   intrigued  friend  learning  the  working  am  deep  of  hello  with  i\n",
       "0          1       1         1    1        1   1     1   1      1     1  1"
      ]
     },
     "execution_count": 11,
     "metadata": {},
     "output_type": "execute_result"
    }
   ],
   "source": [
    "bow1 = calculateBOW(wordset,l_doc1)\n",
    "df_bow = pd.DataFrame([bow1])\n",
    "df_bow.head()"
   ]
  },
  {
   "cell_type": "code",
   "execution_count": 12,
   "id": "4b9607a9",
   "metadata": {
    "id": "4b9607a9"
   },
   "outputs": [],
   "source": [
    "from sklearn.feature_extraction.text import CountVectorizer\n",
    "vectorizer = CountVectorizer()"
   ]
  },
  {
   "cell_type": "code",
   "execution_count": 13,
   "id": "83478fe7",
   "metadata": {
    "id": "83478fe7",
    "outputId": "7be845e2-999a-4e7c-8f41-869613b9182c"
   },
   "outputs": [
    {
     "data": {
      "text/html": [
       "<div>\n",
       "<style scoped>\n",
       "    .dataframe tbody tr th:only-of-type {\n",
       "        vertical-align: middle;\n",
       "    }\n",
       "\n",
       "    .dataframe tbody tr th {\n",
       "        vertical-align: top;\n",
       "    }\n",
       "\n",
       "    .dataframe thead th {\n",
       "        text-align: right;\n",
       "    }\n",
       "</style>\n",
       "<table border=\"1\" class=\"dataframe\">\n",
       "  <thead>\n",
       "    <tr style=\"text-align: right;\">\n",
       "      <th></th>\n",
       "      <th>am</th>\n",
       "      <th>deep</th>\n",
       "      <th>friend</th>\n",
       "      <th>hello</th>\n",
       "      <th>intrigued</th>\n",
       "      <th>learning</th>\n",
       "      <th>of</th>\n",
       "      <th>the</th>\n",
       "      <th>with</th>\n",
       "      <th>working</th>\n",
       "    </tr>\n",
       "  </thead>\n",
       "  <tbody>\n",
       "    <tr>\n",
       "      <th>0</th>\n",
       "      <td>1</td>\n",
       "      <td>1</td>\n",
       "      <td>1</td>\n",
       "      <td>1</td>\n",
       "      <td>1</td>\n",
       "      <td>1</td>\n",
       "      <td>1</td>\n",
       "      <td>1</td>\n",
       "      <td>1</td>\n",
       "      <td>1</td>\n",
       "    </tr>\n",
       "  </tbody>\n",
       "</table>\n",
       "</div>"
      ],
      "text/plain": [
       "   am  deep  friend  hello  intrigued  learning  of  the  with  working\n",
       "0   1     1       1      1          1         1   1    1     1        1"
      ]
     },
     "execution_count": 13,
     "metadata": {},
     "output_type": "execute_result"
    }
   ],
   "source": [
    "X = vectorizer.fit_transform([doc1])\n",
    "df_bow_sklearn = pd.DataFrame(X.toarray(),columns=vectorizer.get_feature_names_out())\n",
    "df_bow_sklearn.head()"
   ]
  },
  {
   "cell_type": "code",
   "execution_count": 14,
   "id": "e486eeff",
   "metadata": {
    "id": "e486eeff",
    "outputId": "78bba8a0-85df-44f8-e6ef-848f2dfe40dd"
   },
   "outputs": [
    {
     "name": "stdout",
     "output_type": "stream",
     "text": [
      "['am' 'deep' 'friend' 'hello' 'intrigued' 'learning' 'of' 'the' 'with'\n",
      " 'working']\n"
     ]
    }
   ],
   "source": [
    "print(vectorizer.get_feature_names_out())"
   ]
  },
  {
   "cell_type": "code",
   "execution_count": 15,
   "id": "509a4989",
   "metadata": {
    "id": "509a4989",
    "outputId": "4d04ad26-c242-4771-f481-958ec9f884f1"
   },
   "outputs": [
    {
     "name": "stderr",
     "output_type": "stream",
     "text": [
      "[nltk_data] Error loading punkt: <urlopen error [WinError 10060] A\n",
      "[nltk_data]     connection attempt failed because the connected party\n",
      "[nltk_data]     did not properly respond after a period of time, or\n",
      "[nltk_data]     established connection failed because connected host\n",
      "[nltk_data]     has failed to respond>\n"
     ]
    },
    {
     "ename": "LookupError",
     "evalue": "\n**********************************************************************\n  Resource \u001b[93mpunkt\u001b[0m not found.\n  Please use the NLTK Downloader to obtain the resource:\n\n  \u001b[31m>>> import nltk\n  >>> nltk.download('punkt')\n  \u001b[0m\n  For more information see: https://www.nltk.org/data.html\n\n  Attempted to load \u001b[93mtokenizers/punkt/english.pickle\u001b[0m\n\n  Searched in:\n    - 'C:\\\\Users\\\\ANANYAPRANAV/nltk_data'\n    - 'C:\\\\ProgramData\\\\anaconda3\\\\nltk_data'\n    - 'C:\\\\ProgramData\\\\anaconda3\\\\share\\\\nltk_data'\n    - 'C:\\\\ProgramData\\\\anaconda3\\\\lib\\\\nltk_data'\n    - 'C:\\\\Users\\\\ANANYAPRANAV\\\\AppData\\\\Roaming\\\\nltk_data'\n    - 'C:\\\\nltk_data'\n    - 'D:\\\\nltk_data'\n    - 'E:\\\\nltk_data'\n    - ''\n**********************************************************************\n",
     "output_type": "error",
     "traceback": [
      "\u001b[1;31m---------------------------------------------------------------------------\u001b[0m",
      "\u001b[1;31mLookupError\u001b[0m                               Traceback (most recent call last)",
      "Cell \u001b[1;32mIn[15], line 9\u001b[0m\n\u001b[0;32m      7\u001b[0m text\u001b[38;5;241m=\u001b[39mf\u001b[38;5;241m.\u001b[39mread()\n\u001b[0;32m      8\u001b[0m f\u001b[38;5;241m.\u001b[39mclose()\n\u001b[1;32m----> 9\u001b[0m dataset \u001b[38;5;241m=\u001b[39m nltk\u001b[38;5;241m.\u001b[39msent_tokenize(text)\n\u001b[0;32m     10\u001b[0m \u001b[38;5;28;01mfor\u001b[39;00m i \u001b[38;5;129;01min\u001b[39;00m \u001b[38;5;28mrange\u001b[39m(\u001b[38;5;28mlen\u001b[39m(dataset)):\n\u001b[0;32m     11\u001b[0m     dataset[i] \u001b[38;5;241m=\u001b[39m dataset[i]\u001b[38;5;241m.\u001b[39mlower()\n",
      "File \u001b[1;32mC:\\ProgramData\\anaconda3\\Lib\\site-packages\\nltk\\tokenize\\__init__.py:106\u001b[0m, in \u001b[0;36msent_tokenize\u001b[1;34m(text, language)\u001b[0m\n\u001b[0;32m     96\u001b[0m \u001b[38;5;28;01mdef\u001b[39;00m \u001b[38;5;21msent_tokenize\u001b[39m(text, language\u001b[38;5;241m=\u001b[39m\u001b[38;5;124m\"\u001b[39m\u001b[38;5;124menglish\u001b[39m\u001b[38;5;124m\"\u001b[39m):\n\u001b[0;32m     97\u001b[0m \u001b[38;5;250m    \u001b[39m\u001b[38;5;124;03m\"\"\"\u001b[39;00m\n\u001b[0;32m     98\u001b[0m \u001b[38;5;124;03m    Return a sentence-tokenized copy of *text*,\u001b[39;00m\n\u001b[0;32m     99\u001b[0m \u001b[38;5;124;03m    using NLTK's recommended sentence tokenizer\u001b[39;00m\n\u001b[1;32m   (...)\u001b[0m\n\u001b[0;32m    104\u001b[0m \u001b[38;5;124;03m    :param language: the model name in the Punkt corpus\u001b[39;00m\n\u001b[0;32m    105\u001b[0m \u001b[38;5;124;03m    \"\"\"\u001b[39;00m\n\u001b[1;32m--> 106\u001b[0m     tokenizer \u001b[38;5;241m=\u001b[39m load(\u001b[38;5;124mf\u001b[39m\u001b[38;5;124m\"\u001b[39m\u001b[38;5;124mtokenizers/punkt/\u001b[39m\u001b[38;5;132;01m{\u001b[39;00mlanguage\u001b[38;5;132;01m}\u001b[39;00m\u001b[38;5;124m.pickle\u001b[39m\u001b[38;5;124m\"\u001b[39m)\n\u001b[0;32m    107\u001b[0m     \u001b[38;5;28;01mreturn\u001b[39;00m tokenizer\u001b[38;5;241m.\u001b[39mtokenize(text)\n",
      "File \u001b[1;32mC:\\ProgramData\\anaconda3\\Lib\\site-packages\\nltk\\data.py:750\u001b[0m, in \u001b[0;36mload\u001b[1;34m(resource_url, format, cache, verbose, logic_parser, fstruct_reader, encoding)\u001b[0m\n\u001b[0;32m    747\u001b[0m     \u001b[38;5;28mprint\u001b[39m(\u001b[38;5;124mf\u001b[39m\u001b[38;5;124m\"\u001b[39m\u001b[38;5;124m<<Loading \u001b[39m\u001b[38;5;132;01m{\u001b[39;00mresource_url\u001b[38;5;132;01m}\u001b[39;00m\u001b[38;5;124m>>\u001b[39m\u001b[38;5;124m\"\u001b[39m)\n\u001b[0;32m    749\u001b[0m \u001b[38;5;66;03m# Load the resource.\u001b[39;00m\n\u001b[1;32m--> 750\u001b[0m opened_resource \u001b[38;5;241m=\u001b[39m _open(resource_url)\n\u001b[0;32m    752\u001b[0m \u001b[38;5;28;01mif\u001b[39;00m \u001b[38;5;28mformat\u001b[39m \u001b[38;5;241m==\u001b[39m \u001b[38;5;124m\"\u001b[39m\u001b[38;5;124mraw\u001b[39m\u001b[38;5;124m\"\u001b[39m:\n\u001b[0;32m    753\u001b[0m     resource_val \u001b[38;5;241m=\u001b[39m opened_resource\u001b[38;5;241m.\u001b[39mread()\n",
      "File \u001b[1;32mC:\\ProgramData\\anaconda3\\Lib\\site-packages\\nltk\\data.py:876\u001b[0m, in \u001b[0;36m_open\u001b[1;34m(resource_url)\u001b[0m\n\u001b[0;32m    873\u001b[0m protocol, path_ \u001b[38;5;241m=\u001b[39m split_resource_url(resource_url)\n\u001b[0;32m    875\u001b[0m \u001b[38;5;28;01mif\u001b[39;00m protocol \u001b[38;5;129;01mis\u001b[39;00m \u001b[38;5;28;01mNone\u001b[39;00m \u001b[38;5;129;01mor\u001b[39;00m protocol\u001b[38;5;241m.\u001b[39mlower() \u001b[38;5;241m==\u001b[39m \u001b[38;5;124m\"\u001b[39m\u001b[38;5;124mnltk\u001b[39m\u001b[38;5;124m\"\u001b[39m:\n\u001b[1;32m--> 876\u001b[0m     \u001b[38;5;28;01mreturn\u001b[39;00m find(path_, path \u001b[38;5;241m+\u001b[39m [\u001b[38;5;124m\"\u001b[39m\u001b[38;5;124m\"\u001b[39m])\u001b[38;5;241m.\u001b[39mopen()\n\u001b[0;32m    877\u001b[0m \u001b[38;5;28;01melif\u001b[39;00m protocol\u001b[38;5;241m.\u001b[39mlower() \u001b[38;5;241m==\u001b[39m \u001b[38;5;124m\"\u001b[39m\u001b[38;5;124mfile\u001b[39m\u001b[38;5;124m\"\u001b[39m:\n\u001b[0;32m    878\u001b[0m     \u001b[38;5;66;03m# urllib might not use mode='rb', so handle this one ourselves:\u001b[39;00m\n\u001b[0;32m    879\u001b[0m     \u001b[38;5;28;01mreturn\u001b[39;00m find(path_, [\u001b[38;5;124m\"\u001b[39m\u001b[38;5;124m\"\u001b[39m])\u001b[38;5;241m.\u001b[39mopen()\n",
      "File \u001b[1;32mC:\\ProgramData\\anaconda3\\Lib\\site-packages\\nltk\\data.py:583\u001b[0m, in \u001b[0;36mfind\u001b[1;34m(resource_name, paths)\u001b[0m\n\u001b[0;32m    581\u001b[0m sep \u001b[38;5;241m=\u001b[39m \u001b[38;5;124m\"\u001b[39m\u001b[38;5;124m*\u001b[39m\u001b[38;5;124m\"\u001b[39m \u001b[38;5;241m*\u001b[39m \u001b[38;5;241m70\u001b[39m\n\u001b[0;32m    582\u001b[0m resource_not_found \u001b[38;5;241m=\u001b[39m \u001b[38;5;124mf\u001b[39m\u001b[38;5;124m\"\u001b[39m\u001b[38;5;130;01m\\n\u001b[39;00m\u001b[38;5;132;01m{\u001b[39;00msep\u001b[38;5;132;01m}\u001b[39;00m\u001b[38;5;130;01m\\n\u001b[39;00m\u001b[38;5;132;01m{\u001b[39;00mmsg\u001b[38;5;132;01m}\u001b[39;00m\u001b[38;5;130;01m\\n\u001b[39;00m\u001b[38;5;132;01m{\u001b[39;00msep\u001b[38;5;132;01m}\u001b[39;00m\u001b[38;5;130;01m\\n\u001b[39;00m\u001b[38;5;124m\"\u001b[39m\n\u001b[1;32m--> 583\u001b[0m \u001b[38;5;28;01mraise\u001b[39;00m \u001b[38;5;167;01mLookupError\u001b[39;00m(resource_not_found)\n",
      "\u001b[1;31mLookupError\u001b[0m: \n**********************************************************************\n  Resource \u001b[93mpunkt\u001b[0m not found.\n  Please use the NLTK Downloader to obtain the resource:\n\n  \u001b[31m>>> import nltk\n  >>> nltk.download('punkt')\n  \u001b[0m\n  For more information see: https://www.nltk.org/data.html\n\n  Attempted to load \u001b[93mtokenizers/punkt/english.pickle\u001b[0m\n\n  Searched in:\n    - 'C:\\\\Users\\\\ANANYAPRANAV/nltk_data'\n    - 'C:\\\\ProgramData\\\\anaconda3\\\\nltk_data'\n    - 'C:\\\\ProgramData\\\\anaconda3\\\\share\\\\nltk_data'\n    - 'C:\\\\ProgramData\\\\anaconda3\\\\lib\\\\nltk_data'\n    - 'C:\\\\Users\\\\ANANYAPRANAV\\\\AppData\\\\Roaming\\\\nltk_data'\n    - 'C:\\\\nltk_data'\n    - 'D:\\\\nltk_data'\n    - 'E:\\\\nltk_data'\n    - ''\n**********************************************************************\n"
     ]
    }
   ],
   "source": [
    "import nltk\n",
    "nltk.download('punkt')\n",
    "import re\n",
    "import numpy as np\n",
    "\n",
    "f= open(\"text.txt\")\n",
    "text=f.read()\n",
    "f.close()\n",
    "dataset = nltk.sent_tokenize(text)\n",
    "for i in range(len(dataset)):\n",
    "    dataset[i] = dataset[i].lower()\n",
    "    dataset[i] = re.sub(r'\\W', ' ', dataset[i])\n",
    "    dataset[i] = re.sub(r'\\s+', ' ', dataset[i])"
   ]
  },
  {
   "cell_type": "code",
   "execution_count": 25,
   "id": "47a86ba0",
   "metadata": {},
   "outputs": [
    {
     "name": "stdout",
     "output_type": "stream",
     "text": [
      "Defaulting to user installation because normal site-packages is not writeable\n",
      "Requirement already satisfied: nltk in c:\\programdata\\anaconda3\\lib\\site-packages (3.8.1)\n",
      "Requirement already satisfied: click in c:\\programdata\\anaconda3\\lib\\site-packages (from nltk) (8.0.4)\n",
      "Requirement already satisfied: joblib in c:\\programdata\\anaconda3\\lib\\site-packages (from nltk) (1.2.0)\n",
      "Requirement already satisfied: regex>=2021.8.3 in c:\\programdata\\anaconda3\\lib\\site-packages (from nltk) (2022.7.9)\n",
      "Requirement already satisfied: tqdm in c:\\programdata\\anaconda3\\lib\\site-packages (from nltk) (4.65.0)\n",
      "Requirement already satisfied: colorama in c:\\programdata\\anaconda3\\lib\\site-packages (from click->nltk) (0.4.6)\n"
     ]
    }
   ],
   "source": [
    "!pip install nltk\n"
   ]
  },
  {
   "cell_type": "code",
   "execution_count": 32,
   "id": "298ffbed",
   "metadata": {
    "id": "298ffbed",
    "outputId": "1e11c1c8-32f8-4820-82b3-efeeafc68bbf"
   },
   "outputs": [
    {
     "ename": "NameError",
     "evalue": "name 'dataset' is not defined",
     "output_type": "error",
     "traceback": [
      "\u001b[1;31m---------------------------------------------------------------------------\u001b[0m",
      "\u001b[1;31mNameError\u001b[0m                                 Traceback (most recent call last)",
      "Cell \u001b[1;32mIn[32], line 1\u001b[0m\n\u001b[1;32m----> 1\u001b[0m \u001b[38;5;28mprint\u001b[39m(dataset)\n",
      "\u001b[1;31mNameError\u001b[0m: name 'dataset' is not defined"
     ]
    }
   ],
   "source": [
    "print(dataset)"
   ]
  },
  {
   "cell_type": "code",
   "execution_count": 20,
   "id": "9455f5b4",
   "metadata": {
    "id": "9455f5b4"
   },
   "outputs": [],
   "source": [
    "word2count = {}\n",
    "for data in dataset:\n",
    "    words = nltk.word_tokenize(data)\n",
    "    for word in words:\n",
    "        if word not in word2count.keys():\n",
    "            word2count[word] = 1\n",
    "        else:\n",
    "            word2count[word] += 1"
   ]
  },
  {
   "cell_type": "code",
   "execution_count": 21,
   "id": "eabfb0cc",
   "metadata": {
    "id": "eabfb0cc",
    "outputId": "f81ab81d-f2af-412d-8d03-bf8ce1ac35be"
   },
   "outputs": [
    {
     "data": {
      "text/plain": [
       "{'hello': 1,\n",
       " 'friend': 1,\n",
       " 'i': 1,\n",
       " 'am': 1,\n",
       " 'intrigued': 1,\n",
       " 'with': 1,\n",
       " 'the': 1,\n",
       " 'working': 1,\n",
       " 'of': 1,\n",
       " 'deep': 1,\n",
       " 'learning': 1}"
      ]
     },
     "execution_count": 21,
     "metadata": {},
     "output_type": "execute_result"
    }
   ],
   "source": [
    "word2count"
   ]
  },
  {
   "cell_type": "code",
   "execution_count": 22,
   "id": "82c41af9",
   "metadata": {
    "id": "82c41af9",
    "outputId": "540358a8-e55e-486f-cf5b-5b214d3e30c9"
   },
   "outputs": [
    {
     "data": {
      "text/plain": [
       "['hello',\n",
       " 'friend',\n",
       " 'i',\n",
       " 'am',\n",
       " 'intrigued',\n",
       " 'with',\n",
       " 'the',\n",
       " 'working',\n",
       " 'of',\n",
       " 'deep',\n",
       " 'learning']"
      ]
     },
     "execution_count": 22,
     "metadata": {},
     "output_type": "execute_result"
    }
   ],
   "source": [
    "words\n"
   ]
  },
  {
   "cell_type": "code",
   "execution_count": 23,
   "id": "c00c6e33",
   "metadata": {
    "id": "c00c6e33",
    "outputId": "4e399fc4-e552-4c9d-9ed8-24a15261dce2"
   },
   "outputs": [
    {
     "data": {
      "text/plain": [
       "11"
      ]
     },
     "execution_count": 23,
     "metadata": {},
     "output_type": "execute_result"
    }
   ],
   "source": [
    "len(words)"
   ]
  },
  {
   "cell_type": "code",
   "execution_count": 24,
   "id": "d902df29",
   "metadata": {
    "id": "d902df29"
   },
   "outputs": [],
   "source": [
    "vocab_size = len(wordset)\n",
    "embed_dim = 10\n",
    "context_size = 4"
   ]
  },
  {
   "cell_type": "code",
   "execution_count": 25,
   "id": "1d2baf67",
   "metadata": {
    "id": "1d2baf67"
   },
   "outputs": [],
   "source": [
    "word_to_ix = {word: i for i, word in enumerate(wordset)}\n",
    "ix_to_word = {i: word for i, word in enumerate(wordset)}"
   ]
  },
  {
   "cell_type": "code",
   "execution_count": 26,
   "id": "f7c3a477",
   "metadata": {
    "id": "f7c3a477",
    "outputId": "30893465-1cc4-43ba-cef2-98c42258ffda"
   },
   "outputs": [
    {
     "data": {
      "text/plain": [
       "{'deep': 0,\n",
       " 'i': 1,\n",
       " 'the': 2,\n",
       " 'intrigued': 3,\n",
       " 'of': 4,\n",
       " 'friend': 5,\n",
       " 'learning': 6,\n",
       " 'with': 7,\n",
       " 'am': 8,\n",
       " 'working': 9,\n",
       " 'hello': 10}"
      ]
     },
     "execution_count": 26,
     "metadata": {},
     "output_type": "execute_result"
    }
   ],
   "source": [
    "word_to_ix"
   ]
  },
  {
   "cell_type": "code",
   "execution_count": 27,
   "id": "17e9f7e9",
   "metadata": {
    "id": "17e9f7e9",
    "outputId": "daaec6f8-3187-4982-af9c-8580e6eeffe4"
   },
   "outputs": [
    {
     "data": {
      "text/plain": [
       "{0: 'deep',\n",
       " 1: 'i',\n",
       " 2: 'the',\n",
       " 3: 'intrigued',\n",
       " 4: 'of',\n",
       " 5: 'friend',\n",
       " 6: 'learning',\n",
       " 7: 'with',\n",
       " 8: 'am',\n",
       " 9: 'working',\n",
       " 10: 'hello'}"
      ]
     },
     "execution_count": 27,
     "metadata": {},
     "output_type": "execute_result"
    }
   ],
   "source": [
    "ix_to_word"
   ]
  },
  {
   "cell_type": "code",
   "execution_count": 28,
   "id": "bcd8c11d",
   "metadata": {
    "id": "bcd8c11d",
    "outputId": "e3533bcb-bb9d-4c1c-9956-b839637feaf8"
   },
   "outputs": [
    {
     "name": "stdout",
     "output_type": "stream",
     "text": [
      "[(['hello', 'friend', 'am', 'intrigued'], 'i'), (['friend', 'i', 'intrigued', 'with'], 'am'), (['i', 'am', 'with', 'the'], 'intrigued'), (['am', 'intrigued', 'the', 'working'], 'with'), (['intrigued', 'with', 'working', 'of'], 'the')]\n"
     ]
    }
   ],
   "source": [
    "data = []\n",
    "for i in range(2, len(words) - 2):\n",
    "    context = [words[i - 2], words[i - 1], words[i + 1], words[i + 2]]\n",
    "    target = words[i]\n",
    "    data.append((context, target))\n",
    "print(data[:5])"
   ]
  },
  {
   "cell_type": "code",
   "execution_count": 29,
   "id": "c5db665f",
   "metadata": {
    "id": "c5db665f"
   },
   "outputs": [],
   "source": [
    "embeddings =  np.random.random_sample((vocab_size, embed_dim))"
   ]
  },
  {
   "cell_type": "code",
   "execution_count": 30,
   "id": "50435d07",
   "metadata": {
    "id": "50435d07",
    "outputId": "04704052-f375-4dcd-e0b1-69ab20807aa6"
   },
   "outputs": [
    {
     "data": {
      "text/plain": [
       "array([[0.40463181, 0.19545648, 0.82183886, 0.40694596, 0.8556774 ,\n",
       "        0.63108154, 0.03799057, 0.15764832, 0.09105446, 0.45521354],\n",
       "       [0.93260684, 0.3310366 , 0.7582561 , 0.3913739 , 0.53596495,\n",
       "        0.28322941, 0.63200426, 0.44957832, 0.53543522, 0.51177561],\n",
       "       [0.86506537, 0.83964949, 0.09520262, 0.57255732, 0.12082813,\n",
       "        0.50665234, 0.81465349, 0.38598333, 0.02078089, 0.25991999],\n",
       "       [0.16780289, 0.1525643 , 0.58299333, 0.41771324, 0.20552448,\n",
       "        0.77889798, 0.65161397, 0.88491933, 0.08479714, 0.8854379 ],\n",
       "       [0.20485679, 0.68784483, 0.71376171, 0.71132597, 0.5212528 ,\n",
       "        0.23864884, 0.25762618, 0.20084271, 0.10902986, 0.8892242 ],\n",
       "       [0.4431827 , 0.48753789, 0.5729309 , 0.72517362, 0.44171963,\n",
       "        0.79719605, 0.59274187, 0.37358548, 0.91825077, 0.33505887],\n",
       "       [0.05608614, 0.48674486, 0.14472897, 0.90787636, 0.62789395,\n",
       "        0.14868063, 0.07508385, 0.97378016, 0.67128476, 0.37710664],\n",
       "       [0.04646213, 0.4360461 , 0.82998098, 0.28107005, 0.41658841,\n",
       "        0.10269469, 0.08769382, 0.52301672, 0.02197993, 0.50811058],\n",
       "       [0.04140949, 0.49778873, 0.38508605, 0.8121522 , 0.90409506,\n",
       "        0.22342092, 0.9800124 , 0.65953827, 0.97071008, 0.19606697],\n",
       "       [0.80137374, 0.66502334, 0.80383718, 0.20995289, 0.69325038,\n",
       "        0.29793492, 0.29571706, 0.1861406 , 0.715029  , 0.53064873],\n",
       "       [0.48920068, 0.25667682, 0.38162684, 0.17555522, 0.86221261,\n",
       "        0.26449544, 0.9981202 , 0.88724912, 0.40098006, 0.89040035]])"
      ]
     },
     "execution_count": 30,
     "metadata": {},
     "output_type": "execute_result"
    }
   ],
   "source": [
    "embeddings"
   ]
  },
  {
   "cell_type": "code",
   "execution_count": 31,
   "id": "b5f4b918",
   "metadata": {
    "id": "b5f4b918"
   },
   "outputs": [],
   "source": [
    "def linear(m, theta):\n",
    "    w = theta\n",
    "    return m.dot(w)"
   ]
  },
  {
   "cell_type": "code",
   "execution_count": 32,
   "id": "f37e96cd",
   "metadata": {
    "id": "f37e96cd"
   },
   "outputs": [],
   "source": [
    "def log_softmax(x):\n",
    "    e_x = np.exp(x - np.max(x))\n",
    "    return np.log(e_x / e_x.sum())\n",
    "def NLLLoss(logs, targets):\n",
    "    out = logs[range(len(targets)), targets]\n",
    "    return -out.sum()/len(out)"
   ]
  },
  {
   "cell_type": "code",
   "execution_count": 33,
   "id": "b68247dd",
   "metadata": {
    "id": "b68247dd"
   },
   "outputs": [],
   "source": [
    "import tensorflow as tf\n",
    "import keras.backend as k\n",
    "from keras.models import Sequential\n",
    "from keras.layers import Dense, Embedding, Lambda"
   ]
  },
  {
   "cell_type": "code",
   "execution_count": null,
   "id": "5078e343",
   "metadata": {
    "id": "5078e343"
   },
   "outputs": [],
   "source": []
  },
  {
   "cell_type": "code",
   "execution_count": 34,
   "id": "85b84445",
   "metadata": {
    "id": "85b84445"
   },
   "outputs": [],
   "source": [
    "def log_softmax_crossentropy_with_logits(logits,target):\n",
    "\n",
    "    out = np.zeros_like(logits)\n",
    "    out[np.arange(len(logits)),target] = 1\n",
    "\n",
    "    softmax = np.exp(logits) / np.exp(logits).sum(axis=-1,keepdims=True)\n",
    "\n",
    "    return (- out + softmax) / logits.shape[0]"
   ]
  },
  {
   "cell_type": "code",
   "execution_count": 35,
   "id": "821ca3b1",
   "metadata": {
    "id": "821ca3b1"
   },
   "outputs": [],
   "source": [
    "def forward(context_idxs, theta):\n",
    "    m = embeddings[context_idxs].reshape(1, -1)\n",
    "    n = linear(m, theta)\n",
    "    o = log_softmax(n)\n",
    "\n",
    "    return m, n, o"
   ]
  },
  {
   "cell_type": "code",
   "execution_count": 36,
   "id": "bc8a0957",
   "metadata": {
    "id": "bc8a0957"
   },
   "outputs": [],
   "source": [
    "def backward(preds, theta, target_idxs):\n",
    "    m, n, o = preds\n",
    "\n",
    "    dlog = log_softmax_crossentropy_with_logits(n, target_idxs)\n",
    "    dw = m.T.dot(dlog)\n",
    "\n",
    "    return dw"
   ]
  },
  {
   "cell_type": "code",
   "execution_count": 37,
   "id": "da36e4f2",
   "metadata": {
    "id": "da36e4f2"
   },
   "outputs": [],
   "source": [
    "def optimize(theta, grad, lr=0.03):\n",
    "    theta -= grad * lr\n",
    "    return theta"
   ]
  },
  {
   "cell_type": "code",
   "execution_count": 38,
   "id": "4bf069cc",
   "metadata": {
    "id": "4bf069cc"
   },
   "outputs": [],
   "source": [
    "theta = np.random.uniform(-1, 1, ( context_size * embed_dim, vocab_size))"
   ]
  },
  {
   "cell_type": "code",
   "execution_count": 39,
   "id": "1a24acf7",
   "metadata": {
    "id": "1a24acf7"
   },
   "outputs": [],
   "source": [
    "epoch_losses = {}\n",
    "\n",
    "for epoch in range(80):\n",
    "\n",
    "    losses =  []\n",
    "\n",
    "    for context, target in data:\n",
    "        context_idxs = np.array([word_to_ix[w] for w in context])\n",
    "        preds = forward(context_idxs, theta)\n",
    "\n",
    "        target_idxs = np.array([word_to_ix[target]])\n",
    "        loss = NLLLoss(preds[-1], target_idxs)\n",
    "\n",
    "        losses.append(loss)\n",
    "\n",
    "        grad = backward(preds, theta, target_idxs)\n",
    "        theta = optimize(theta, grad, lr=0.03)\n",
    "\n",
    "        epoch_losses[epoch] = losses"
   ]
  },
  {
   "cell_type": "code",
   "execution_count": 40,
   "id": "6ab62843",
   "metadata": {
    "id": "6ab62843",
    "outputId": "2fad5968-70b0-4b6c-9b2f-4b74a7e09712"
   },
   "outputs": [
    {
     "data": {
      "text/plain": [
       "Text(0, 0.5, 'Losses')"
      ]
     },
     "execution_count": 40,
     "metadata": {},
     "output_type": "execute_result"
    },
    {
     "data": {
      "image/png": "[encoded data removed]",
      "text/plain": [
       "<Figure size 432x288 with 1 Axes>"
      ]
     },
     "metadata": {
      "needs_background": "light"
     },
     "output_type": "display_data"
    }
   ],
   "source": [
    "import matplotlib.pyplot as plt\n",
    "ix = np.arange(0,80)\n",
    "\n",
    "fig = plt.figure()\n",
    "fig.suptitle('Epoch/Losses', fontsize=20)\n",
    "plt.plot(ix,[epoch_losses[i][0] for i in ix])\n",
    "plt.xlabel('Epochs', fontsize=12)\n",
    "plt.ylabel('Losses', fontsize=12)"
   ]
  },
  {
   "cell_type": "code",
   "execution_count": 50,
   "id": "9d3f08dd",
   "metadata": {
    "id": "9d3f08dd",
    "outputId": "2dae2472-c0d0-4405-83d0-4157d3337ecd"
   },
   "outputs": [],
   "source": [
    "def predict(words):\n",
    "    context_idxs = np.array([word_to_ix[w] for w in words])\n",
    "    preds = forward(context_idxs, theta)\n",
    "    word = ix_to_word[np.argmax(preds[-1])]\n",
    "\n",
    "    return word\n",
    "predicted=predict(['deep', 'am', 'intrigued', 'with'])"
   ]
  },
  {
   "cell_type": "code",
   "execution_count": 51,
   "id": "c9898b5c",
   "metadata": {
    "id": "c9898b5c",
    "outputId": "13e59210-fc7a-416a-9194-289cf5d93890"
   },
   "outputs": [
    {
     "data": {
      "text/plain": [
       "1.0"
      ]
     },
     "execution_count": 51,
     "metadata": {},
     "output_type": "execute_result"
    }
   ],
   "source": [
    "def accuracy():\n",
    "    wrong = 0\n",
    "\n",
    "    for context, target in data:\n",
    "        if(predict(context) != target):\n",
    "            wrong += 1\n",
    "\n",
    "    return (1 - (wrong / len(data)))\n",
    "accuracy()"
   ]
  },
  {
   "cell_type": "code",
   "execution_count": null,
   "id": "05263b83",
   "metadata": {
    "id": "05263b83"
   },
   "outputs": [],
   "source": []
  },
  {
   "cell_type": "code",
   "execution_count": null,
   "id": "4903adf3",
   "metadata": {},
   "outputs": [],
   "source": []
  }
 ],
 "metadata": {
  "colab": {
   "provenance": []
  },
  "kernelspec": {
   "display_name": "Python 3 (ipykernel)",
   "language": "python",
   "name": "python3"
  },
  "language_info": {
   "codemirror_mode": {
    "name": "ipython",
    "version": 3
   },
   "file_extension": ".py",
   "mimetype": "text/x-python",
   "name": "python",
   "nbconvert_exporter": "python",
   "pygments_lexer": "ipython3",
   "version": "3.11.4"
  }
 },
 "nbformat": 4,
 "nbformat_minor": 5
}
