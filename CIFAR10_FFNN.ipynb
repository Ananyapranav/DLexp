{
 "cells": [
  {
   "cell_type": "code",
   "execution_count": 1,
   "id": "866add5b",
   "metadata": {},
   "outputs": [],
   "source": [
    "import tensorflow as tf\n",
    "from tensorflow import keras \n",
    "from tensorflow.keras.models import Sequential\n",
    "from tensorflow.keras.layers import Flatten\n",
    "from tensorflow.keras.layers import Dense\n",
    "import matplotlib.pyplot as plt\n",
    "import random\n",
    "import numpy as np"
   ]
  },
  {
   "cell_type": "code",
   "execution_count": 2,
   "id": "b2fe5c73",
   "metadata": {},
   "outputs": [
    {
     "name": "stdout",
     "output_type": "stream",
     "text": [
      "x train shape :  (50000, 32, 32, 3)\n",
      "x test shape :  (10000, 32, 32, 3)\n",
      "y train shape :  (50000, 1)\n",
      "y test shape :  (10000, 1)\n"
     ]
    }
   ],
   "source": [
    "cifar=tf.keras.datasets.cifar10\n",
    "(xtrain,ytrain),(xtest,ytest)=cifar.load_data()\n",
    "print('x train shape : ',xtrain.shape)\n",
    "print('x test shape : ',xtest.shape)\n",
    "print('y train shape : ',ytrain.shape)\n",
    "print('y test shape : ',ytest.shape)"
   ]
  },
  {
   "cell_type": "code",
   "execution_count": 3,
   "id": "ec3ea7c7",
   "metadata": {},
   "outputs": [],
   "source": [
    "xtrain=xtrain.astype('float32')\n",
    "xtest=xtest.astype('float32')\n",
    "\n",
    "xtrain=xtrain/255\n",
    "xtest=xtest/255\n",
    "\n"
   ]
  },
  {
   "cell_type": "code",
   "execution_count": 7,
   "id": "049c6a3c",
   "metadata": {},
   "outputs": [
    {
     "name": "stdout",
     "output_type": "stream",
     "text": [
      "Model: \"sequential_1\"\n",
      "_________________________________________________________________\n",
      " Layer (type)                Output Shape              Param #   \n",
      "=================================================================\n",
      " flatten_1 (Flatten)         (None, 3072)              0         \n",
      "                                                                 \n",
      " dense_7 (Dense)             (None, 256)               786688    \n",
      "                                                                 \n",
      " dense_8 (Dense)             (None, 16)                4112      \n",
      "                                                                 \n",
      " dense_9 (Dense)             (None, 10)                170       \n",
      "                                                                 \n",
      "=================================================================\n",
      "Total params: 790970 (3.02 MB)\n",
      "Trainable params: 790970 (3.02 MB)\n",
      "Non-trainable params: 0 (0.00 Byte)\n",
      "_________________________________________________________________\n"
     ]
    }
   ],
   "source": [
    "model=Sequential([\n",
    "    keras.layers.Flatten(input_shape=(32, 32, 3)),\n",
    "    #keras.layers.Dense(2048,activation='relu'),\n",
    "    #keras.layers.Dense(512,activation='relu'),\n",
    "    keras.layers.Dense(256,activation='relu'),\n",
    "   # keras.layers.Dense(128,activation='relu'),\n",
    "    #keras.layers.Dense(32,activation='relu'),\n",
    "    keras.layers.Dense(16,activation='relu'),\n",
    "    keras.layers.Dense(10,activation='softmax')\n",
    "])\n",
    "\n",
    "model.summary()"
   ]
  },
  {
   "cell_type": "code",
   "execution_count": 9,
   "id": "41b909f6",
   "metadata": {},
   "outputs": [
    {
     "name": "stdout",
     "output_type": "stream",
     "text": [
      "Epoch 1/20\n",
      "1563/1563 [==============================] - 6s 3ms/step - loss: 1.4097 - accuracy: 0.4899 - val_loss: 1.5124 - val_accuracy: 0.4570\n",
      "Epoch 2/20\n",
      "1563/1563 [==============================] - 5s 3ms/step - loss: 1.4027 - accuracy: 0.4928 - val_loss: 1.4914 - val_accuracy: 0.4718\n",
      "Epoch 3/20\n",
      "1563/1563 [==============================] - 5s 3ms/step - loss: 1.3999 - accuracy: 0.4968 - val_loss: 1.4954 - val_accuracy: 0.4689\n",
      "Epoch 4/20\n",
      "1563/1563 [==============================] - 5s 3ms/step - loss: 1.3998 - accuracy: 0.4953 - val_loss: 1.4942 - val_accuracy: 0.4691\n",
      "Epoch 5/20\n",
      "1563/1563 [==============================] - 5s 3ms/step - loss: 1.3974 - accuracy: 0.4974 - val_loss: 1.5095 - val_accuracy: 0.4660\n",
      "Epoch 6/20\n",
      "1563/1563 [==============================] - 5s 3ms/step - loss: 1.3961 - accuracy: 0.4967 - val_loss: 1.5060 - val_accuracy: 0.4685\n",
      "Epoch 7/20\n",
      "1563/1563 [==============================] - 5s 3ms/step - loss: 1.3962 - accuracy: 0.4964 - val_loss: 1.4959 - val_accuracy: 0.4685\n",
      "Epoch 8/20\n",
      "1563/1563 [==============================] - 5s 3ms/step - loss: 1.3956 - accuracy: 0.4970 - val_loss: 1.4916 - val_accuracy: 0.4696\n",
      "Epoch 9/20\n",
      "1563/1563 [==============================] - 5s 3ms/step - loss: 1.3936 - accuracy: 0.4967 - val_loss: 1.4957 - val_accuracy: 0.4706\n",
      "Epoch 10/20\n",
      "1563/1563 [==============================] - 5s 3ms/step - loss: 1.3948 - accuracy: 0.4985 - val_loss: 1.4995 - val_accuracy: 0.4691\n",
      "Epoch 11/20\n",
      "1563/1563 [==============================] - 5s 3ms/step - loss: 1.3933 - accuracy: 0.4968 - val_loss: 1.5018 - val_accuracy: 0.4727\n",
      "Epoch 12/20\n",
      "1563/1563 [==============================] - 5s 3ms/step - loss: 1.3922 - accuracy: 0.5002 - val_loss: 1.5363 - val_accuracy: 0.4502\n",
      "Epoch 13/20\n",
      "1563/1563 [==============================] - 5s 3ms/step - loss: 1.3910 - accuracy: 0.4999 - val_loss: 1.4949 - val_accuracy: 0.4693\n",
      "Epoch 14/20\n",
      "1563/1563 [==============================] - 5s 3ms/step - loss: 1.3899 - accuracy: 0.5008 - val_loss: 1.5150 - val_accuracy: 0.4642\n",
      "Epoch 15/20\n",
      "1563/1563 [==============================] - 6s 4ms/step - loss: 1.3905 - accuracy: 0.4983 - val_loss: 1.5059 - val_accuracy: 0.4605\n",
      "Epoch 16/20\n",
      "1563/1563 [==============================] - 5s 3ms/step - loss: 1.3895 - accuracy: 0.4993 - val_loss: 1.4976 - val_accuracy: 0.4730\n",
      "Epoch 17/20\n",
      "1563/1563 [==============================] - 5s 3ms/step - loss: 1.3882 - accuracy: 0.5008 - val_loss: 1.5034 - val_accuracy: 0.4612\n",
      "Epoch 18/20\n",
      "1563/1563 [==============================] - 5s 3ms/step - loss: 1.3875 - accuracy: 0.5005 - val_loss: 1.4980 - val_accuracy: 0.4666\n",
      "Epoch 19/20\n",
      "1563/1563 [==============================] - 5s 3ms/step - loss: 1.3857 - accuracy: 0.4997 - val_loss: 1.4974 - val_accuracy: 0.4665\n",
      "Epoch 20/20\n",
      "1563/1563 [==============================] - 5s 3ms/step - loss: 1.3872 - accuracy: 0.5011 - val_loss: 1.4834 - val_accuracy: 0.4767\n"
     ]
    }
   ],
   "source": [
    "model.compile(optimizer='sgd', loss='sparse_categorical_crossentropy',metrics=['accuracy'])\n",
    "history=model.fit(xtrain,ytrain,validation_data=(xtest,ytest),epochs=20 )"
   ]
  },
  {
   "cell_type": "code",
   "execution_count": 8,
   "id": "d0cc5480",
   "metadata": {},
   "outputs": [
    {
     "name": "stdout",
     "output_type": "stream",
     "text": [
      "Epoch 1/20\n",
      "1563/1563 [==============================] - 12s 8ms/step - loss: 2.1446 - accuracy: 0.1723 - val_loss: 2.0773 - val_accuracy: 0.1884\n",
      "Epoch 2/20\n",
      "1563/1563 [==============================] - 14s 9ms/step - loss: 2.0562 - accuracy: 0.1899 - val_loss: 2.0272 - val_accuracy: 0.1919\n",
      "Epoch 3/20\n",
      "1563/1563 [==============================] - 15s 9ms/step - loss: 2.0081 - accuracy: 0.2046 - val_loss: 1.9345 - val_accuracy: 0.2625\n",
      "Epoch 4/20\n",
      "1563/1563 [==============================] - 13s 8ms/step - loss: 1.8693 - accuracy: 0.2965 - val_loss: 1.8405 - val_accuracy: 0.3054\n",
      "Epoch 5/20\n",
      "1563/1563 [==============================] - 15s 10ms/step - loss: 1.7624 - accuracy: 0.3555 - val_loss: 1.7037 - val_accuracy: 0.3806\n",
      "Epoch 6/20\n",
      "1563/1563 [==============================] - 15s 10ms/step - loss: 1.6922 - accuracy: 0.3863 - val_loss: 1.7072 - val_accuracy: 0.3787\n",
      "Epoch 7/20\n",
      "1563/1563 [==============================] - 16s 10ms/step - loss: 1.6557 - accuracy: 0.4003 - val_loss: 1.6610 - val_accuracy: 0.3976\n",
      "Epoch 8/20\n",
      "1563/1563 [==============================] - 16s 10ms/step - loss: 1.6208 - accuracy: 0.4157 - val_loss: 1.6402 - val_accuracy: 0.4037\n",
      "Epoch 9/20\n",
      "1563/1563 [==============================] - 16s 10ms/step - loss: 1.5893 - accuracy: 0.4241 - val_loss: 1.6038 - val_accuracy: 0.4193\n",
      "Epoch 10/20\n",
      "1563/1563 [==============================] - 16s 10ms/step - loss: 1.5693 - accuracy: 0.4339 - val_loss: 1.5813 - val_accuracy: 0.4302\n",
      "Epoch 11/20\n",
      "1563/1563 [==============================] - 15s 10ms/step - loss: 1.5494 - accuracy: 0.4419 - val_loss: 1.5931 - val_accuracy: 0.4259\n",
      "Epoch 12/20\n",
      "1563/1563 [==============================] - 14s 9ms/step - loss: 1.5302 - accuracy: 0.4485 - val_loss: 1.5584 - val_accuracy: 0.4306\n",
      "Epoch 13/20\n",
      "1563/1563 [==============================] - 13s 8ms/step - loss: 1.5159 - accuracy: 0.4535 - val_loss: 1.5837 - val_accuracy: 0.4239\n",
      "Epoch 14/20\n",
      "1563/1563 [==============================] - 12s 8ms/step - loss: 1.5022 - accuracy: 0.4581 - val_loss: 1.5201 - val_accuracy: 0.4537\n",
      "Epoch 15/20\n",
      "1563/1563 [==============================] - 12s 8ms/step - loss: 1.4917 - accuracy: 0.4627 - val_loss: 1.5216 - val_accuracy: 0.4555\n",
      "Epoch 16/20\n",
      "1563/1563 [==============================] - 15s 9ms/step - loss: 1.4800 - accuracy: 0.4673 - val_loss: 1.5540 - val_accuracy: 0.4395\n",
      "Epoch 17/20\n",
      "1563/1563 [==============================] - 14s 9ms/step - loss: 1.4719 - accuracy: 0.4703 - val_loss: 1.5213 - val_accuracy: 0.4539\n",
      "Epoch 18/20\n",
      "1563/1563 [==============================] - 13s 8ms/step - loss: 1.4635 - accuracy: 0.4736 - val_loss: 1.5110 - val_accuracy: 0.4570\n",
      "Epoch 19/20\n",
      "1563/1563 [==============================] - 12s 8ms/step - loss: 1.4562 - accuracy: 0.4754 - val_loss: 1.5422 - val_accuracy: 0.4445\n",
      "Epoch 20/20\n",
      "1563/1563 [==============================] - 11s 7ms/step - loss: 1.4510 - accuracy: 0.4754 - val_loss: 1.5194 - val_accuracy: 0.4542\n"
     ]
    }
   ],
   "source": [
    "model.compile(optimizer='adam', loss='sparse_categorical_crossentropy',metrics=['accuracy'])\n",
    "history=model.fit(xtrain,ytrain,validation_data=(xtest,ytest),epochs=20 )"
   ]
  },
  {
   "cell_type": "code",
   "execution_count": 14,
   "id": "dab2030d",
   "metadata": {},
   "outputs": [
    {
     "data": {
      "image/png": "[encoded data removed]",
      "text/plain": [
       "<Figure size 640x480 with 1 Axes>"
      ]
     },
     "metadata": {},
     "output_type": "display_data"
    },
    {
     "name": "stdout",
     "output_type": "stream",
     "text": [
      "313/313 [==============================] - 2s 7ms/step\n",
      "Predicted value: 9\n"
     ]
    }
   ],
   "source": [
    "n=random.randint(0,9999)\n",
    "plt.imshow(xtest[n])\n",
    "plt.show()\n",
    "predicted_value=model.predict(xtest)\n",
    "\n",
    "plt.show()\n",
    "print('Predicted value:',np.argmax(predicted_value[n]))\n"
   ]
  }
 ],
 "metadata": {
  "kernelspec": {
   "display_name": "Python 3 (ipykernel)",
   "language": "python",
   "name": "python3"
  },
  "language_info": {
   "codemirror_mode": {
    "name": "ipython",
    "version": 3
   },
   "file_extension": ".py",
   "mimetype": "text/x-python",
   "name": "python",
   "nbconvert_exporter": "python",
   "pygments_lexer": "ipython3",
   "version": "3.11.4"
  }
 },
 "nbformat": 4,
 "nbformat_minor": 5
}
